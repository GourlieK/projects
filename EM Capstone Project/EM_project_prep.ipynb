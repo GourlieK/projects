{
 "cells": [
  {
   "cell_type": "markdown",
   "metadata": {},
   "source": [
    "# PREP ACTIVITY\n",
    "## Part Two: Computational Method"
   ]
  },
  {
   "cell_type": "markdown",
   "metadata": {},
   "source": [
    "The purpose of this portion of the Prep Activity is to get you exposed to the computational equivalent of your analytical solution, as well as common plotting and masking techniques.\n",
    "\n",
    "Lets start by putting your name down, and importing some libraries. Note that if you are using Jupyter, you want to use the `%matplotlib notebook` and if you are using VS Code, you want to use `%matplotlib`."
   ]
  },
  {
   "cell_type": "code",
   "execution_count": 1,
   "metadata": {},
   "outputs": [],
   "source": [
    "#Enter Name Here: "
   ]
  },
  {
   "cell_type": "code",
   "execution_count": 4,
   "metadata": {},
   "outputs": [
    {
     "name": "stdout",
     "output_type": "stream",
     "text": [
      "Using matplotlib backend: QtAgg\n"
     ]
    }
   ],
   "source": [
    "import numpy as np\n",
    "import matplotlib.pyplot as plt\n",
    "%matplotlib\n",
    "#%matplotlib notebook"
   ]
  },
  {
   "cell_type": "markdown",
   "metadata": {},
   "source": [
    "**Now lets define some quantities and constants:**\n",
    "\n",
    "These quantities are tied to the dielectric material:\n",
    "\n",
    "- `R`:   Radius of the Dielectric Water Sphere\n",
    "- `ds`:  Discretized Step Size Over all Space\n",
    "- `X_e`: Dielectric Constant of Water\n",
    "- `e_0`: Permittivity of Free Space\n",
    "\n",
    "These Quantities are tied to the Conductor Shape Parameters:\n",
    "\n",
    "- `r`:           Radius of the Conducting Sphere\n",
    "- `V`: Potential of the Surface of the Conductor\n",
    "\n",
    "All of these quantities are free to be changed.  "
   ]
  },
  {
   "cell_type": "code",
   "execution_count": 31,
   "metadata": {},
   "outputs": [],
   "source": [
    "R = 1\n",
    "ds = 0.1\n",
    "x_e = 80.1\n",
    "e_0 = 8.85e-12\n",
    "r = 0.5\n",
    "V = 5"
   ]
  },
  {
   "cell_type": "markdown",
   "metadata": {},
   "source": [
    "**Our next step is going to be creating the environment in which all the compuation is occuring within. To due this, we will utilize `np.meshgrid` to generate (x,y,z) spatial coordinates**"
   ]
  },
  {
   "cell_type": "code",
   "execution_count": 32,
   "metadata": {},
   "outputs": [],
   "source": [
    "x = np.arange(-2*R,2*R+ds,ds)\n",
    "y = np.arange(-2*R,2*R+ds,ds)\n",
    "z = np.arange(-2*R,2*R+ds,ds)\n",
    "X,Y,Z = np.meshgrid(x,y,z,indexing='ij')   "
   ]
  },
  {
   "cell_type": "markdown",
   "metadata": {},
   "source": [
    "**In order to be able to calculate the potential everywhere within the environment, a separate potential array will be needed to store the potential values at each location in space**\n",
    "\n",
    "This will now link the potential array to the `np.meshgrid`"
   ]
  },
  {
   "cell_type": "code",
   "execution_count": 33,
   "metadata": {},
   "outputs": [],
   "source": [
    "volt = np.zeros((x.size,y.size,z.size),dtype = np.float64)"
   ]
  },
  {
   "cell_type": "markdown",
   "metadata": {},
   "source": [
    "Following the creation of the potential array and the environment, some masks need to be created in order to index into two different regions of space: one where you are within the dielectric sphere and another when you are outside the dielectric sphere"
   ]
  },
  {
   "cell_type": "code",
   "execution_count": 34,
   "metadata": {},
   "outputs": [],
   "source": [
    "di_out_mask = np.where(X**2 + Y**2 + Z**2 >= R**2) \n",
    "di_in_mask = np.where(X**2 + Y**2 + Z**2 <= R**2)  "
   ]
  },
  {
   "cell_type": "markdown",
   "metadata": {},
   "source": [
    "**Now lets define a function that can initialize potential values along the conductor's interior and surface.**\n",
    "\n",
    "The function require three input variables: The radius of the dielectric, the radius of the conducting sphere, and the potential array. Similar to `di_out_mask`, we can utilize a mask to assign the potential value `V` to the conducting sphere."
   ]
  },
  {
   "cell_type": "code",
   "execution_count": 35,
   "metadata": {},
   "outputs": [],
   "source": [
    "def cond_sphere(R,r,volt):\n",
    "    if r > R:\n",
    "        print('Your chosen sphere is too large')\n",
    "        return None\n",
    "    sphere_index = np.where(((X**2 + Y**2 + Z**2) <= (r**2)))\n",
    "    volt[sphere_index] = V\n",
    "    return sphere_index, volt"
   ]
  },
  {
   "cell_type": "markdown",
   "metadata": {},
   "source": [
    "### The Method of Relaxation\n",
    "\n",
    "The method of relaxation is how we can computationally calculate the potential everywhere within the environment. It is essentially an averaging scheme that computes the potential at a given location in space by averaging the potential values all around it. This averaging scheme needs to be repeated in order to stabilize the potential values. Due to this repetition due to the `while` loop, the intial potential within the conducting sphere must be re-initialized per iteration.\n",
    "\n",
    "Special thanks to Vincent Vaughn-Uding for assistance with the creation of `relax`"
   ]
  },
  {
   "cell_type": "code",
   "execution_count": 36,
   "metadata": {},
   "outputs": [],
   "source": [
    "def relax(volt,index, num):\n",
    "    count = 0\n",
    "    while(num != count):\n",
    "        old_volt = volt                                                                                                   \n",
    "        volt[index] = V                                                                                                        \n",
    "        for i in range(1,volt.shape[0]-1):\n",
    "            for j in range(1,volt.shape[1]-1):\n",
    "                for k in range(1,volt.shape[2]-1):\n",
    "                    volt[i,j,k] =  (old_volt[i+1,j,k] +  old_volt[i-1,j,k] +  old_volt[i,j+1,k] +  \n",
    "                                    old_volt[i,j-1,k] + old_volt[i,j,k+1] +  old_volt[i,j,k-1])/6\n",
    "        count = count + 1\n",
    "    return volt"
   ]
  },
  {
   "cell_type": "markdown",
   "metadata": {},
   "source": [
    "**For plotting practice, use a 3D Matplotlib Scatter Plot to visualize the space coordinates of the universe and of the dielectric sphere.**\n",
    "\n",
    "*Hint: Use a mask to select the spatial coordinates correlated to only the dielectric sphere for plotting the dielectric sphere*"
   ]
  },
  {
   "cell_type": "code",
   "execution_count": 37,
   "metadata": {},
   "outputs": [],
   "source": [
    "#Type your answer here"
   ]
  },
  {
   "cell_type": "code",
   "execution_count": 38,
   "metadata": {},
   "outputs": [],
   "source": [
    "#Solution for Environment Plot\n",
    "fig = plt.figure()\n",
    "plt.title(f'Universe in Cartesian Coordinates with sidelength {4*R} [m]')\n",
    "ax = fig.add_subplot(projection='3d')\n",
    "ax.scatter(X, Y, Z,color = 'black')\n",
    "ax.set_xlabel('X')\n",
    "ax.set_ylabel('Y')\n",
    "ax.set_zlabel('Z')\n",
    "ax.set_aspect('equal')\n",
    "ax.set_xlim(-2*R,2*R)\n",
    "ax.set_ylim(-2*R,2*R)\n",
    "ax.set_zlim(-2*R,2*R)\n",
    "plt.show()"
   ]
  },
  {
   "cell_type": "code",
   "execution_count": 39,
   "metadata": {},
   "outputs": [],
   "source": [
    "#Solution for Dielectric Sphere Plot\n",
    "fig = plt.figure()\n",
    "plt.title(f'Water Dielectric in Cartesian Coordinates with radius {R} [m]')\n",
    "ax = fig.add_subplot(projection='3d')\n",
    "ax.scatter(X[di_in_mask], Y[di_in_mask], Z[di_in_mask],color = 'blue')\n",
    "ax.set_xlabel('X')\n",
    "ax.set_ylabel('Y')\n",
    "ax.set_zlabel('Z')\n",
    "ax.set_aspect('equal')\n",
    "ax.set_xlim(-2*R,2*R)\n",
    "ax.set_ylim(-2*R,2*R)\n",
    "ax.set_zlim(-2*R,2*R)\n",
    "plt.show()"
   ]
  },
  {
   "cell_type": "markdown",
   "metadata": {},
   "source": [
    "### Sphere Potential Calculations\n",
    "\n",
    "Now that you have successfully plotting spatial coordinates using masks, lets get to the computation of the potential. The first step will be to generate a sphere from the `cond_sphere` function and calculate the potential everywhere in space using `relax`."
   ]
  },
  {
   "cell_type": "code",
   "execution_count": 40,
   "metadata": {},
   "outputs": [],
   "source": [
    "#Type your answer here"
   ]
  },
  {
   "cell_type": "code",
   "execution_count": 41,
   "metadata": {},
   "outputs": [],
   "source": [
    "#Solution\n",
    "sphere_mask, sphere_volt = cond_sphere(R,r,volt)\n",
    "new_sphere_volt = relax(sphere_volt,sphere_mask,100)"
   ]
  },
  {
   "cell_type": "markdown",
   "metadata": {},
   "source": [
    "Just to double check that our sphere mask worked, lets plot the sphere"
   ]
  },
  {
   "cell_type": "code",
   "execution_count": 42,
   "metadata": {},
   "outputs": [],
   "source": [
    "fig = plt.figure()\n",
    "plt.title(f'Sphere in Cartesian Coordinates with radius {r} [m]')\n",
    "ax = fig.add_subplot(projection='3d')\n",
    "ax.scatter(X[sphere_mask], Y[sphere_mask], Z[sphere_mask],color = 'black')\n",
    "ax.set_xlabel('X')\n",
    "ax.set_ylabel('Y')\n",
    "ax.set_zlabel('Z')\n",
    "ax.set_aspect('equal')\n",
    "ax.set_xlim(-R,R)\n",
    "ax.set_ylim(-R,R)\n",
    "ax.set_zlim(-R,R)\n",
    "plt.show()"
   ]
  },
  {
   "cell_type": "markdown",
   "metadata": {},
   "source": [
    "**Since the potential is now calculated everywhere in space, lets use a contour plot to check it out**"
   ]
  },
  {
   "cell_type": "code",
   "execution_count": 43,
   "metadata": {},
   "outputs": [
    {
     "name": "stderr",
     "output_type": "stream",
     "text": [
      "Locator attempting to generate 5000 ticks ([0.0, ..., 4.999]), which exceeds Locator.MAXTICKS (1000).\n"
     ]
    }
   ],
   "source": [
    "sph_len = sphere_volt.shape[2]\n",
    "sph_mid_len = int(round(sph_len,0)/2)\n",
    "plt.title(f'Equipotential Contour Plot of Sphere with radius {r} [m]')\n",
    "plt.contourf(X[:,:,sph_mid_len],Y[:,:,sph_mid_len],new_sphere_volt[sph_mid_len,:,:],levels = 5000,cmap = 'hot')\n",
    "plt.tight_layout()\n",
    "plt.colorbar(label = 'potential [V]',ticks = np.linspace(0,V,V))\n",
    "plt.show()"
   ]
  },
  {
   "cell_type": "markdown",
   "metadata": {},
   "source": [
    "In order to visualize the potential using a contour plot in 2D, one of the position variables needs to be fixed. Which one is being fixed in this situation? What is `sph_mid_len` doing? Would fixing other positions instead have an impact on the contour plot?"
   ]
  },
  {
   "cell_type": "code",
   "execution_count": 44,
   "metadata": {},
   "outputs": [],
   "source": [
    "#Your answer here"
   ]
  },
  {
   "cell_type": "markdown",
   "metadata": {},
   "source": [
    "### Electric Field Sphere Calculations\n",
    "\n",
    "In order to calculate the electric field, we need to create two separate potential arrays. One that is for inside the dielectric and the other for the outside of the dielectric. This is because the electric field is different for these two regions and since we are utilizing `np.gradient` to calculate the electric field, we need two separate potentials."
   ]
  },
  {
   "cell_type": "code",
   "execution_count": 45,
   "metadata": {},
   "outputs": [],
   "source": [
    "V_in_sph = np.zeros((new_sphere_volt.shape),dtype = np.float64) \n",
    "V_in_sph[di_in_mask] = new_sphere_volt[di_in_mask]             "
   ]
  },
  {
   "cell_type": "markdown",
   "metadata": {},
   "source": [
    "**The Electric Field Inside the Dielectric:**"
   ]
  },
  {
   "cell_type": "code",
   "execution_count": 46,
   "metadata": {},
   "outputs": [],
   "source": [
    "E_sph_in = np.gradient(V_in_sph) * -np.ones((V_in_sph.shape),dtype = np.float64) / (np.ones((V_in_sph.shape),dtype = np.float64)*x_e)   #computes electric field just within the dielectric. It is zero outside\n",
    "x_E_sph_in = E_sph_in[0]        #E_x vector inside of dielectric\n",
    "y_E_sph_in = E_sph_in[1]        #E_y vector inside of dielectric\n",
    "z_E_sph_in = E_sph_in[2]        #E_z vector inside of dielectric"
   ]
  },
  {
   "cell_type": "markdown",
   "metadata": {},
   "source": [
    "**The Electric Field Outside the Dielectric:**"
   ]
  },
  {
   "cell_type": "code",
   "execution_count": 47,
   "metadata": {},
   "outputs": [],
   "source": [
    "E_sph_out =  np.gradient(new_sphere_volt) * -np.ones((new_sphere_volt.shape),dtype = np.float64)        #computes the negative gradient of the potential everywhere, including the inside, but the inside computation is incorrect\n",
    "x_E_sph_out = E_sph_out[0]      #E_x vector outside of dielectric\n",
    "y_E_sph_out = E_sph_out[1]      #E_y vector outside of dielectric\n",
    "z_E_sph_out = E_sph_out[2]      #E_z vector outside of dielectric"
   ]
  },
  {
   "cell_type": "markdown",
   "metadata": {},
   "source": [
    "**3D Electric Field Plot**"
   ]
  },
  {
   "cell_type": "code",
   "execution_count": 48,
   "metadata": {},
   "outputs": [],
   "source": [
    "ax = plt.figure().add_subplot(projection='3d')\n",
    "plt.title(f\"Electric Field Sphere with potential {V} [V] and radius {r} [m]\")\n",
    "ax.quiver(X[di_in_mask], Y[di_in_mask], Z[di_in_mask], x_E_sph_in[di_in_mask], y_E_sph_in[di_in_mask], z_E_sph_in[di_in_mask], length=.1,arrow_length_ratio=0.5,color = 'black')\n",
    "ax.quiver(X[di_out_mask], Y[di_out_mask], Z[di_out_mask], x_E_sph_out[di_out_mask], y_E_sph_out[di_out_mask], z_E_sph_out[di_out_mask], length=.1,arrow_length_ratio=0.5,color = 'black')\n",
    "ax.set_xlabel('X')\n",
    "ax.set_ylabel('Y')\n",
    "ax.set_zlabel('Z')\n",
    "ax.set_aspect('equal')\n",
    "ax.set_xlim(-2*R,2*R)\n",
    "ax.set_ylim(-2*R,2*R)\n",
    "plt.show()"
   ]
  },
  {
   "cell_type": "markdown",
   "metadata": {},
   "source": [
    "Is this graphical representation of the electric field makes sense? Why or why not? Is there anything confusing about this representation?"
   ]
  },
  {
   "cell_type": "code",
   "execution_count": 49,
   "metadata": {},
   "outputs": [],
   "source": [
    "#Your answer here"
   ]
  },
  {
   "cell_type": "markdown",
   "metadata": {},
   "source": [
    "You probabily noticed that this representation really isn't useful. Lets do a 2D representation instead "
   ]
  },
  {
   "cell_type": "markdown",
   "metadata": {},
   "source": [
    "**2D Electric Field Plot**"
   ]
  },
  {
   "cell_type": "code",
   "execution_count": 50,
   "metadata": {},
   "outputs": [
    {
     "data": {
      "text/plain": [
       "(-2.0, 2.0)"
      ]
     },
     "execution_count": 50,
     "metadata": {},
     "output_type": "execute_result"
    }
   ],
   "source": [
    "#slices the electric field within dielectric at midpoint\n",
    "x_in_pl_sph = x_E_sph_in[:, :, sph_mid_len]        \n",
    "y_in_pl_sph = y_E_sph_in[:, :, sph_mid_len]  \n",
    "\n",
    "#slices the electric field outside dielectric at midpoint \n",
    "x_out_pl_sph = x_E_sph_out[:, :, sph_mid_len]     \n",
    "y_out_pl_sph = y_E_sph_out[:, :, sph_mid_len]\n",
    "\n",
    "#slices the positions\n",
    "X_sph = X[:, :, sph_mid_len]                         \n",
    "Y_sph = Y[:, :, sph_mid_len]\n",
    "Z_sph = Z[:, :, sph_mid_len]\n",
    "\n",
    "#grabs 2D indices of the slices that is within the dielectric\n",
    "new_index_sph = np.where(X_sph**2 + Y_sph**2 + Z_sph**2 < R)   \n",
    "\n",
    "#grabs 2D indices of the slices that is outside the dielectric\n",
    "out_index_sph = np.where(X_sph**2 + Y_sph**2 + Z_sph**2 > R)    \n",
    "\n",
    "#relating color of plot to magnitude of vectors\n",
    "color_in_sph = np.sqrt(x_in_pl_sph**2 + y_in_pl_sph**2)     \n",
    "color_out_sph = np.sqrt(x_out_pl_sph**2 + y_out_pl_sph**2)   \n",
    "\n",
    "fig, ax = plt.subplots()\n",
    "ax.set_title(f\"Cross-sectional Cut of Electric Field Sphere with potential {V} [V] and radius {r} [m]\")\n",
    "ax.set_aspect('equal')\n",
    "ax.set_facecolor('black')\n",
    "quiver_1 = ax.quiver(X_sph[new_index_sph],Y_sph[new_index_sph],x_in_pl_sph[new_index_sph],y_in_pl_sph[new_index_sph],color_in_sph[new_index_sph],units='xy',angles='xy',scale_units='xy',headlength=5,cmap='hot')    \n",
    "quiver_2 = ax.quiver(X_sph[out_index_sph],Y_sph[out_index_sph],x_out_pl_sph[out_index_sph],y_out_pl_sph[out_index_sph],color_out_sph[out_index_sph],units='xy',angles='xy',scale_units='xy',headlength=5,cmap='hot') \n",
    "cbar = plt.colorbar(quiver_1,ticks = np.linspace(0,np.max(color_in_sph),5))      \n",
    "cbar.set_label(r'$|\\mathrm{\\vec{E}}| \\quad [\\mathrm{N C^{-1}}]$')\n",
    "ax.add_patch(plt.Circle((0, 0), R, color='red', fill=False))\n",
    "ax.add_patch(plt.Circle((0, 0), r, color='red', fill=False))\n",
    "ax.set_xlim(-2*R,2*R)\n",
    "ax.set_ylim(-2*R,2*R)"
   ]
  },
  {
   "cell_type": "markdown",
   "metadata": {},
   "source": [
    "Which position is being held constant when making this 2D Electric Field plot? Does this plot make physical sense? Please elaborate"
   ]
  },
  {
   "cell_type": "code",
   "execution_count": 51,
   "metadata": {},
   "outputs": [],
   "source": [
    "#Your answer here"
   ]
  },
  {
   "cell_type": "markdown",
   "metadata": {},
   "source": [
    "### Inner Bound Charge Calculation\n",
    "\n",
    "In order to calculate the inner bound charge on the interior of the dielectric, we need to index into just outside the conducting sphere's surface. To due this, will will need to make a new mask that can go to the surface of the sphere, index 1 above the sphere, and then remove the contents of the interior of the sphere, only leaving the surface.\n",
    "\n",
    "Thank you to Vincent Vaughn-Uding for assistance with the creation of the mask.\n"
   ]
  },
  {
   "cell_type": "code",
   "execution_count": 52,
   "metadata": {},
   "outputs": [],
   "source": [
    "pos_sphere_mask = np.zeros((x.size,y.size,z.size),dtype = bool)     \n",
    "pos_sphere_mask[sphere_mask] = True                                   \n",
    "pos_sphere_mask[1:-1,1:-1,1:-1] = (pos_sphere_mask[2:,1:-1,1:-1] | pos_sphere_mask[0:-2,1:-1,1:-1] \n",
    "| pos_sphere_mask[1:-1,2:,1:-1] | pos_sphere_mask[1:-1,0:-2,1:-1] | pos_sphere_mask[1:-1,1:-1,2:] | pos_sphere_mask[1:-1,1:-1,0:-2])\n",
    "pos_sphere_mask[sphere_mask] = False    "
   ]
  },
  {
   "cell_type": "markdown",
   "metadata": {},
   "source": [
    "Now, we can use the mask to grab the electric fields just at the surface of the sphere"
   ]
  },
  {
   "cell_type": "code",
   "execution_count": 53,
   "metadata": {},
   "outputs": [],
   "source": [
    "x_E_sphere_bound_in = x_E_sph_in[pos_sphere_mask]\n",
    "y_E_sphere_bound_in = y_E_sph_in[pos_sphere_mask]\n",
    "z_E_sphere_bound_in = z_E_sph_in[pos_sphere_mask]"
   ]
  },
  {
   "cell_type": "markdown",
   "metadata": {},
   "source": [
    "Lastly, since we are at the surface of the sphere, we can assume that the electric field is anti-parallel to the normal vector at the inner surface of the dielectric. That allows us to not need to take the dot product of the normal vector with the electric field vector. We can just take the negative magnitude of the electric field at the surface."
   ]
  },
  {
   "cell_type": "code",
   "execution_count": 54,
   "metadata": {},
   "outputs": [],
   "source": [
    "mag_E_sphere_bound_in_one = np.sqrt(x_E_sphere_bound_in**2 + y_E_sphere_bound_in**2 + z_E_sphere_bound_in**2)\n",
    "sig_sphere_b = -mag_E_sphere_bound_in_one*e_0*x_e"
   ]
  },
  {
   "cell_type": "markdown",
   "metadata": {},
   "source": [
    "Now lets plot the surface bound charge density at the surface of the sphere"
   ]
  },
  {
   "cell_type": "code",
   "execution_count": 55,
   "metadata": {},
   "outputs": [],
   "source": [
    "ax = plt.figure().add_subplot(projection='3d')\n",
    "plt.title(f'Surface Charge at Inner Boundary with Conducting Sphere of Radius {round(r,4)} [m] and potential {round(V,4)} [V]')\n",
    "plot = ax.scatter(X[pos_sphere_mask],Y[pos_sphere_mask],Z[pos_sphere_mask],marker = 'o',cmap = 'hot' ,c= sig_sphere_b, s = 1000,alpha = 1)\n",
    "ax.set_xlabel('X')\n",
    "ax.set_ylabel('Y')\n",
    "ax.set_zlabel('Z')\n",
    "ax.set_aspect('equal')\n",
    "cbar = plt.colorbar(plot,ticks = np.linspace(0,np.max(sig_sphere_b),10))  \n",
    "cbar.set_label(r'$\\mathrm{\\sigma \\quad [\\frac{C}{m^2}]}$')    \n",
    "plt.show()"
   ]
  },
  {
   "cell_type": "markdown",
   "metadata": {},
   "source": [
    "Does this plot make physical sense? Why or why not?"
   ]
  },
  {
   "cell_type": "code",
   "execution_count": 56,
   "metadata": {},
   "outputs": [],
   "source": [
    "#Your answer here"
   ]
  },
  {
   "cell_type": "markdown",
   "metadata": {},
   "source": [
    "### Outer Bound Charge Calculation\n",
    "\n",
    "Similar to how we found the Inner Bound Charge of the Conducting Sphere, we also want to make a mask for just on the inside of the dielectric. To do this, we will use a similar method as used when we increased our index size in order to get to the surface, but we will use the stepsize instead. This method is more preferrable here because it allows us to choose how thick we want our dielectric surface to be. "
   ]
  },
  {
   "cell_type": "code",
   "execution_count": 57,
   "metadata": {},
   "outputs": [],
   "source": [
    "scale = 2  \n",
    "di_surf_mask = np.where(((np.abs(X))**2 + (np.abs(Y))**2 + (np.abs(Z))**2 < (R)**2) & ((np.abs(X)+scale*ds)**2 + (np.abs(Y)+scale*ds)**2 + (np.abs(Z)+scale*ds)**2 > (R+scale*ds)**2))"
   ]
  },
  {
   "cell_type": "markdown",
   "metadata": {},
   "source": [
    "Now we can use the `di_surf_mask` to grab the electric field just on the inside of the dielectric"
   ]
  },
  {
   "cell_type": "code",
   "execution_count": 58,
   "metadata": {},
   "outputs": [],
   "source": [
    "x_E_sph_bound_out = x_E_sph_out[di_surf_mask]\n",
    "y_E_sph_bound_out = y_E_sph_out[di_surf_mask]\n",
    "z_E_sph_bound_out = z_E_sph_out[di_surf_mask]"
   ]
  },
  {
   "cell_type": "markdown",
   "metadata": {},
   "source": [
    "Since the conducting sphere is symmetrical with the dielectric sphere, we can assume again that the electric field is parallel to the normal surface vector of the dielectric sphere"
   ]
  },
  {
   "cell_type": "code",
   "execution_count": 59,
   "metadata": {},
   "outputs": [],
   "source": [
    "mag_E_sphere_bound_out_one = np.sqrt((x_E_sph_bound_out)**2 + (y_E_sph_bound_out)**2 + (z_E_sph_bound_out)**2)\n",
    "sig_sphere_out = mag_E_sphere_bound_out_one*e_0*x_e"
   ]
  },
  {
   "cell_type": "markdown",
   "metadata": {},
   "source": [
    "Now lets plot the surface bound charge density at the edge of the dielectric"
   ]
  },
  {
   "cell_type": "code",
   "execution_count": 60,
   "metadata": {},
   "outputs": [],
   "source": [
    "ax = plt.figure().add_subplot(projection='3d')\n",
    "plt.title(f'Surface Charge at Outer Boundary with Conducting Sphere of Radius {round(r,4)} [m] and potential {round(V,4)} [V]')\n",
    "plot = ax.scatter(X[di_surf_mask],Y[di_surf_mask],Z[di_surf_mask],marker = 'o',cmap = 'hot' ,c= sig_sphere_out, s = 1000,alpha = 1)\n",
    "ax.set_xlabel('X')\n",
    "ax.set_ylabel('Y')\n",
    "ax.set_zlabel('Z')\n",
    "ax.set_aspect('equal')\n",
    "cbar = plt.colorbar(plot,ticks = np.linspace(0,np.max(sig_sphere_out),10))  \n",
    "cbar.set_label(r'$\\mathrm{\\sigma \\quad [\\frac{C}{m^2}]}$')    \n",
    "plt.show()"
   ]
  },
  {
   "cell_type": "markdown",
   "metadata": {},
   "source": [
    "Does this plot make physical sense? Why or why not?"
   ]
  },
  {
   "cell_type": "code",
   "execution_count": 61,
   "metadata": {},
   "outputs": [],
   "source": [
    "#Your answer here"
   ]
  },
  {
   "cell_type": "markdown",
   "metadata": {},
   "source": [
    "### Free Bound Charge Calculation"
   ]
  },
  {
   "cell_type": "markdown",
   "metadata": {},
   "source": [
    "Using your analytical solution of the free charge for the conducting sphere, code in your solution and make a graphical representation of it, similar to the example of the Inner Bound Charge provided above"
   ]
  },
  {
   "cell_type": "code",
   "execution_count": 62,
   "metadata": {},
   "outputs": [],
   "source": [
    "#Your answer here"
   ]
  },
  {
   "cell_type": "code",
   "execution_count": 63,
   "metadata": {},
   "outputs": [],
   "source": [
    "#Solution\n",
    "sig_sphere_f = mag_E_sphere_bound_in_one*e_0\n",
    "ax = plt.figure().add_subplot(projection='3d')\n",
    "plt.title(f'Free Surface Charge for Conducting Sphere of Radius {round(r,4)} [m] and potential {round(V,4)} [V]')\n",
    "plot = ax.scatter(X[pos_sphere_mask],Y[pos_sphere_mask],Z[pos_sphere_mask],marker = 'o',cmap = 'hot' ,c= sig_sphere_f, s = 1000,alpha = 1)\n",
    "ax.set_xlabel('X')\n",
    "ax.set_ylabel('Y')\n",
    "ax.set_zlabel('Z')\n",
    "ax.set_aspect('equal')\n",
    "cbar = plt.colorbar(plot,ticks = np.linspace(0,np.max(sig_sphere_f),10))  \n",
    "cbar.set_label(r'$\\mathrm{\\sigma \\quad [\\frac{C}{m^2}]}$')    \n",
    "plt.show()"
   ]
  },
  {
   "cell_type": "code",
   "execution_count": null,
   "metadata": {},
   "outputs": [],
   "source": []
  },
  {
   "cell_type": "code",
   "execution_count": null,
   "metadata": {},
   "outputs": [],
   "source": []
  }
 ],
 "metadata": {
  "kernelspec": {
   "display_name": "base",
   "language": "python",
   "name": "python3"
  },
  "language_info": {
   "codemirror_mode": {
    "name": "ipython",
    "version": 3
   },
   "file_extension": ".py",
   "mimetype": "text/x-python",
   "name": "python",
   "nbconvert_exporter": "python",
   "pygments_lexer": "ipython3",
   "version": "3.10.9"
  }
 },
 "nbformat": 4,
 "nbformat_minor": 2
}
