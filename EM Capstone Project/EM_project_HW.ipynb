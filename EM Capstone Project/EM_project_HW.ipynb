{
 "cells": [
  {
   "cell_type": "markdown",
   "metadata": {},
   "source": [
    "# Corresponding Notebook for Homework"
   ]
  },
  {
   "cell_type": "markdown",
   "metadata": {},
   "source": [
    "### Initiations of Constants, Libraries, and Environments"
   ]
  },
  {
   "cell_type": "code",
   "execution_count": 30,
   "metadata": {},
   "outputs": [],
   "source": [
    "import numpy as np\n",
    "import matplotlib.pyplot as plt\n",
    "%matplotlib\n",
    "#%matplotlib notebook"
   ]
  },
  {
   "cell_type": "code",
   "execution_count": 31,
   "metadata": {},
   "outputs": [],
   "source": [
    "R = 1\n",
    "ds = 0.05\n",
    "a = 0.7*R\n",
    "mini_r = R/5\n",
    "V = 10\n",
    "x_e = 80.1\n",
    "e_0 = 8.85e-12"
   ]
  },
  {
   "cell_type": "code",
   "execution_count": 32,
   "metadata": {},
   "outputs": [],
   "source": [
    "x = np.arange(-2*R,2*R+ds,ds)\n",
    "y = np.arange(-2*R,2*R+ds,ds)\n",
    "z = np.arange(-2*R,2*R+ds,ds)\n",
    "X,Y,Z = np.meshgrid(x,y,z,indexing='ij')  "
   ]
  },
  {
   "cell_type": "markdown",
   "metadata": {},
   "source": [
    "## Method of Relaxation\n",
    "\n",
    "This is very similar to the Prep Activity, but instead there are two objects that need to re-initialized for their potentials."
   ]
  },
  {
   "cell_type": "code",
   "execution_count": 33,
   "metadata": {},
   "outputs": [],
   "source": [
    "def relax(volt,sphere_1,sphere_2, num):\n",
    "    count = 0\n",
    "    while(num != count):\n",
    "\n",
    "        #grabs the old voltage \n",
    "        old_volt = volt \n",
    "        \n",
    "        #re-inforces the voltage boundary condition, or else it washes out                                                                                                      \n",
    "        volt[sphere_1] = V \n",
    "        volt[sphere_2] = -V                                                                                                         \n",
    "        for i in range(1,volt.shape[0]-1):\n",
    "            for j in range(1,volt.shape[1]-1):\n",
    "                for k in range(1,volt.shape[2]-1):\n",
    "                    volt[i,j,k] =  (old_volt[i+1,j,k] +  old_volt[i-1,j,k] +  old_volt[i,j+1,k] +  \n",
    "                                    old_volt[i,j-1,k] + old_volt[i,j,k+1] +  old_volt[i,j,k-1])/6\n",
    "        count = count + 1\n",
    "    return volt"
   ]
  },
  {
   "cell_type": "markdown",
   "metadata": {},
   "source": [
    "Here, there are two spherical objects. Each are fixed on the xy-plane, and are separated by a distance of 2a"
   ]
  },
  {
   "cell_type": "code",
   "execution_count": 34,
   "metadata": {},
   "outputs": [],
   "source": [
    "sphere_1_index = np.where(((X-a)**2 + (Y)**2 + Z**2 < mini_r**2))\n",
    "sphere_2_index = np.where(((X+a)**2 + (Y)**2 + Z**2 < mini_r**2))"
   ]
  },
  {
   "cell_type": "markdown",
   "metadata": {},
   "source": [
    "## Potential Calculations"
   ]
  },
  {
   "cell_type": "markdown",
   "metadata": {},
   "source": [
    "This creates a Mask for the potential for both objects"
   ]
  },
  {
   "cell_type": "code",
   "execution_count": 35,
   "metadata": {},
   "outputs": [],
   "source": [
    "volt_hw = np.zeros((x.size,y.size,z.size),dtype = np.float64)\n",
    "volt_mask = np.zeros((x.size,y.size,z.size),dtype = bool)\n",
    "volt_mask[sphere_1_index] = True\n",
    "volt_mask[sphere_2_index] = True\n",
    "\n",
    "perm_index = np.where(X**2 + Y**2 + Z**2 <= R**2) \n",
    "other_index = np.where(X**2 + Y**2 + Z**2 > R**2)    \n",
    "\n",
    "voltage = relax(volt_hw,sphere_1_index,sphere_2_index, 100)"
   ]
  },
  {
   "cell_type": "markdown",
   "metadata": {},
   "source": [
    "**Contour Plot at Constant Z**"
   ]
  },
  {
   "cell_type": "code",
   "execution_count": 38,
   "metadata": {},
   "outputs": [
    {
     "name": "stderr",
     "output_type": "stream",
     "text": [
      "Locator attempting to generate 4995 ticks ([-9.988, ..., 9.988]), which exceeds Locator.MAXTICKS (1000).\n"
     ]
    }
   ],
   "source": [
    "_len = voltage.shape[2]\n",
    "mid_len = int(round(_len ,0)/2)\n",
    "plt.title(f'Equipotential Contour Plot of Dipole Moment at Constant Z')\n",
    "plt.contourf(X[:,:,mid_len],Y[:,:,mid_len],voltage[:,:,mid_len],levels = 5000,cmap = 'copper')\n",
    "plt.xlabel('X')\n",
    "plt.ylabel('Y')\n",
    "plt.colorbar(label = 'potential [V]',ticks = np.linspace(-V,V,V*2))\n",
    "plt.tight_layout()\n",
    "plt.show()"
   ]
  },
  {
   "cell_type": "markdown",
   "metadata": {},
   "source": [
    "**Contour Plot at Constant X**"
   ]
  },
  {
   "cell_type": "code",
   "execution_count": 11,
   "metadata": {},
   "outputs": [
    {
     "name": "stderr",
     "output_type": "stream",
     "text": [
      "Locator attempting to generate 4722 ticks ([-0.023604999999999998, ..., 0.0]), which exceeds Locator.MAXTICKS (1000).\n"
     ]
    }
   ],
   "source": [
    "plt.title(f'Equipotential Contour Plot of Dipole Moment at Constant X')\n",
    "plt.contourf(X[:,:,mid_len],Y[:,:,mid_len],voltage[mid_len,:,:],levels = 5000,cmap = 'copper')\n",
    "plt.xlabel('Y')\n",
    "plt.ylabel('Z')\n",
    "plt.colorbar(label = 'potential [V]',ticks = np.linspace(-V,V,V*2))\n",
    "plt.tight_layout()\n",
    "plt.show()"
   ]
  },
  {
   "cell_type": "markdown",
   "metadata": {},
   "source": [
    "**Contour Plot at Constant Y**"
   ]
  },
  {
   "cell_type": "code",
   "execution_count": 12,
   "metadata": {},
   "outputs": [
    {
     "name": "stderr",
     "output_type": "stream",
     "text": [
      "Locator attempting to generate 4995 ticks ([-9.988, ..., 9.988]), which exceeds Locator.MAXTICKS (1000).\n"
     ]
    }
   ],
   "source": [
    "plt.title(f'Equipotential Contour Plot of Dipole Moment at Constant Y')\n",
    "plt.contourf(X[:,:,mid_len],Y[:,:,mid_len],voltage[:,mid_len,:],levels = 5000,cmap = 'copper')\n",
    "plt.xlabel('X')\n",
    "plt.ylabel('Z')\n",
    "plt.colorbar(label = 'potential [V]',ticks = np.linspace(-V,V,V*2))\n",
    "plt.tight_layout()\n",
    "plt.show()"
   ]
  },
  {
   "cell_type": "markdown",
   "metadata": {},
   "source": [
    "## Creation of the Electric Field"
   ]
  },
  {
   "cell_type": "code",
   "execution_count": 13,
   "metadata": {},
   "outputs": [],
   "source": [
    "V_in = np.zeros((voltage.shape),dtype = np.float64) \n",
    "V_in[perm_index] = voltage[perm_index] "
   ]
  },
  {
   "cell_type": "markdown",
   "metadata": {},
   "source": [
    "**Electric Field Inside the Dielectric**"
   ]
  },
  {
   "cell_type": "code",
   "execution_count": 14,
   "metadata": {},
   "outputs": [],
   "source": [
    "E_in = np.gradient((V_in) * -np.ones((V_in.shape),dtype = np.float64) / (np.ones((V_in.shape),dtype = np.float64)*x_e))                      \n",
    "x_E_in = E_in[0]                                                                                                                       \n",
    "y_E_in = E_in[1]                                                                                                                             \n",
    "z_E_in = E_in[2]     "
   ]
  },
  {
   "cell_type": "markdown",
   "metadata": {},
   "source": [
    "**Electric Field Outside the Dielectric**"
   ]
  },
  {
   "cell_type": "code",
   "execution_count": 15,
   "metadata": {},
   "outputs": [],
   "source": [
    "E_cube_out =  np.gradient(voltage) * -np.ones((voltage.shape),dtype = np.float64)        \n",
    "x_E_out = E_cube_out[0]                                                                \n",
    "y_E_out = E_cube_out[1]                                                                  \n",
    "z_E_out = E_cube_out[2]   "
   ]
  },
  {
   "cell_type": "markdown",
   "metadata": {},
   "source": [
    "**3D Electric Field Plot**"
   ]
  },
  {
   "cell_type": "code",
   "execution_count": 16,
   "metadata": {},
   "outputs": [],
   "source": [
    "ax = plt.figure().add_subplot(projection='3d')\n",
    "ax.quiver(X[perm_index], Y[perm_index], Z[perm_index], x_E_in[perm_index], y_E_in[perm_index], z_E_in[perm_index], length=0.1,arrow_length_ratio=0.5,color = 'black')\n",
    "ax.quiver(X[other_index], Y[other_index], Z[other_index], x_E_out[other_index], y_E_out[other_index], z_E_out[other_index], length=.1,arrow_length_ratio=0.5,color = 'black')\n",
    "ax.set_xlabel('X')\n",
    "ax.set_ylabel('Y')\n",
    "ax.set_zlabel('Z')\n",
    "ax.set_aspect('equal')\n",
    "ax.set_xlim(-2*R,2*R)\n",
    "ax.set_ylim(-2*R,2*R)\n",
    "plt.show()"
   ]
  },
  {
   "cell_type": "markdown",
   "metadata": {},
   "source": [
    "**2D Electric Field Plot at Constant X**"
   ]
  },
  {
   "cell_type": "code",
   "execution_count": 17,
   "metadata": {},
   "outputs": [
    {
     "data": {
      "text/plain": [
       "(-2.0, 2.0)"
      ]
     },
     "execution_count": 17,
     "metadata": {},
     "output_type": "execute_result"
    }
   ],
   "source": [
    "#slices the electric field within dielectric at midpoint\n",
    "y_in_pl_const_x = y_E_in[mid_len,:,:]        \n",
    "z_in_pl_const_x = z_E_in[mid_len,:,:]  \n",
    "\n",
    "#slices the electric field outside dielectric at midpoint \n",
    "y_out_pl_const_x = y_E_out[mid_len,:,:]     \n",
    "z_out_pl_const_x = z_E_out[mid_len,:,:]\n",
    "\n",
    "#slices the positions\n",
    "X_const_x = X[mid_len,:,:]                        \n",
    "Y_const_x = Y[mid_len,:,:]\n",
    "Z_const_x = Z[mid_len,:,:]\n",
    "\n",
    "#grabs 2D indices of the slices that is within the dielectric\n",
    "new_index_const_x = np.where(X_const_x**2 + Y_const_x**2 + Z_const_x**2 < R)    #grabs 2D indices of the slices that is within the dielectric\n",
    "\n",
    "#grabs 2D indices of the slices that is outside the dielectric\n",
    "out_index_const_x = np.where(X_const_x**2 + Y_const_x**2 + Z_const_x**2 > R)    #grabs 2D indices of the slices that is outside the dielectric\n",
    "\n",
    "#relating color of plot to magnitude of vectors\n",
    "color_in_const_x = np.sqrt(y_in_pl_const_x**2 + z_in_pl_const_x**2)      #related color to magnitude\n",
    "color_out_const_x = np.sqrt(y_out_pl_const_x**2 + z_out_pl_const_x**2)   #related color to magnitude\n",
    "\n",
    "fig, ax = plt.subplots()\n",
    "#ax.set_title(f\"Cross-sectional Cut of Electric Field Cone at Constant X with potential {V} [V] and height {cone_height} [m] and upper radius {round(cone_radius,3)} [m]\")\n",
    "ax.set_aspect('equal')\n",
    "ax.set_facecolor('black')\n",
    "ax.set_xlabel('X')\n",
    "ax.set_ylabel('Y')\n",
    "quiver_1 = ax.quiver(Y_const_x[new_index_const_x],Z_const_x[new_index_const_x],y_in_pl_const_x[new_index_const_x],z_in_pl_const_x[new_index_const_x],color_in_const_x[new_index_const_x],units='xy',angles='xy',scale_units='xy',headlength=5,cmap='hot')    \n",
    "quiver_2 = ax.quiver(Y_const_x[out_index_const_x],Z_const_x[out_index_const_x],y_out_pl_const_x[out_index_const_x],z_out_pl_const_x[out_index_const_x],color_out_const_x[out_index_const_x],units='xy',angles='xy',scale_units='xy',headlength=5,cmap='hot')\n",
    "cbar = plt.colorbar(quiver_1,ticks = np.linspace(0,np.max(color_in_const_x),5))      #creates colorbar. Used quiver 1 because max values are with it\n",
    "cbar.set_label(r'$|\\mathrm{\\vec{E}}| \\quad [\\mathrm{N C^{-1}}]$')\n",
    "ax.add_patch(plt.Circle((0, 0), R, color='black', fill=False,linewidth = 5))\n",
    "ax.add_patch(plt.Circle((-a, 0), mini_r, color='green', fill=False,linewidth = 2))\n",
    "ax.add_patch(plt.Circle((a, 0), mini_r, color='green', fill=False,linewidth = 2))\n",
    "ax.set_xlim(-2*R,2*R)\n",
    "ax.set_ylim(-2*R,2*R)\n",
    "plt.show()"
   ]
  },
  {
   "cell_type": "markdown",
   "metadata": {},
   "source": [
    "**2D Electric Field Plot at Constant Z**"
   ]
  },
  {
   "cell_type": "code",
   "execution_count": 18,
   "metadata": {},
   "outputs": [
    {
     "data": {
      "text/plain": [
       "(-2.0, 2.0)"
      ]
     },
     "execution_count": 18,
     "metadata": {},
     "output_type": "execute_result"
    }
   ],
   "source": [
    "#slices the electric field within dielectric at midpoint\n",
    "x_in_pl_const_z = x_E_in[:, :, mid_len]        \n",
    "y_in_pl_const_z = y_E_in[:, :, mid_len]  \n",
    "\n",
    "#slices the electric field outside dielectric at midpoint \n",
    "x_out_pl_const_z = x_E_out[:, :, mid_len]     \n",
    "y_out_pl_const_z = y_E_out[:, :, mid_len]\n",
    "\n",
    "#slices the positions\n",
    "X_const_z = X[:, :, mid_len]                         \n",
    "Y_const_z = Y[:, :, mid_len]\n",
    "Z_const_z = Z[:, :, mid_len]\n",
    "\n",
    "#grabs 2D indices of the slices that is within the dielectric\n",
    "new_index_const_z = np.where(X_const_z**2 + Y_const_z**2 + Z_const_z**2 < R)    #grabs 2D indices of the slices that is within the dielectric\n",
    "\n",
    "#grabs 2D indices of the slices that is outside the dielectric\n",
    "out_index_const_z = np.where(X_const_z**2 + Y_const_z**2 + Z_const_z**2 > R)    #grabs 2D indices of the slices that is outside the dielectric\n",
    "\n",
    "#related color to magnitude\n",
    "color_in_const_z = np.sqrt(x_in_pl_const_z**2 + y_in_pl_const_z**2)      \n",
    "color_out_const_z = np.sqrt(x_out_pl_const_z**2 + y_out_pl_const_z**2)   \n",
    "\n",
    "fig, ax = plt.subplots()\n",
    "ax.set_title(f\"Cross-sectional Cut of Electric Field Cone at Constant Z with potential {V} [V] and objects' radius {round(a,4)} [m]\")\n",
    "ax.set_aspect('equal')\n",
    "ax.set_facecolor('black')\n",
    "ax.set_xlabel('X')\n",
    "ax.set_ylabel('Y')\n",
    "quiver_1 = ax.quiver(X_const_z[new_index_const_z],Y_const_z[new_index_const_z],x_in_pl_const_z[new_index_const_z],y_in_pl_const_z[new_index_const_z],color_in_const_z[new_index_const_z],units='xy',angles='xy',scale_units='xy',headlength=5,cmap='hot')   \n",
    "quiver_2 = ax.quiver(X_const_z[out_index_const_z],Y_const_z[out_index_const_z],x_out_pl_const_z[out_index_const_z],y_out_pl_const_z[out_index_const_z],color_out_const_z[out_index_const_z],units='xy',angles='xy',scale_units='xy',headlength=5,cmap='hot')\n",
    "cbar = plt.colorbar(quiver_1,ticks = np.linspace(0,np.max(color_in_const_z),5))      #creates colorbar. Used quiver 1 because max values are with it\n",
    "cbar.set_label(r'$|\\mathrm{\\vec{E}}| \\quad [\\mathrm{N C^{-1}}]$')\n",
    "ax.add_patch(plt.Circle((-a, 0), mini_r, color='white', fill=False))\n",
    "ax.add_patch(plt.Circle((a, 0), mini_r, color='white', fill=False))\n",
    "ax.add_patch(plt.Circle((0, 0), R, color='white', fill=False,linewidth = 1))\n",
    "ax.set_xlim(-2*R,2*R)\n",
    "ax.set_ylim(-2*R,2*R)\n",
    "plt.show()"
   ]
  },
  {
   "cell_type": "markdown",
   "metadata": {},
   "source": [
    "### Charge Density Calculations"
   ]
  },
  {
   "cell_type": "code",
   "execution_count": 19,
   "metadata": {},
   "outputs": [],
   "source": [
    "pos_mask = np.zeros((x.size,y.size,z.size),dtype = bool)     \n",
    "pos_mask[sphere_1_index] = True \n",
    "pos_mask[sphere_2_index] = True                                  \n",
    "pos_mask[1:-1,1:-1,1:-1] = (pos_mask[2:,1:-1,1:-1] | pos_mask[0:-2,1:-1,1:-1] \n",
    "| pos_mask[1:-1,2:,1:-1] | pos_mask[1:-1,0:-2,1:-1] \n",
    "| pos_mask[1:-1,1:-1,2:] | pos_mask[1:-1,1:-1,0:-2])\n",
    "pos_mask[sphere_1_index] = False  \n",
    "pos_mask[sphere_2_index] = False  "
   ]
  },
  {
   "cell_type": "code",
   "execution_count": 20,
   "metadata": {},
   "outputs": [],
   "source": [
    "x_E_bound_in = x_E_in[pos_mask]\n",
    "y_E_bound_in = y_E_in[pos_mask]\n",
    "z_E_bound_in = z_E_in[pos_mask]"
   ]
  },
  {
   "cell_type": "code",
   "execution_count": 21,
   "metadata": {},
   "outputs": [],
   "source": [
    "mag_E_bound_in_one = np.sqrt(x_E_bound_in**2 +\n",
    "                                    y_E_bound_in**2 + z_E_bound_in**2)\n",
    "sig_b = -mag_E_bound_in_one*e_0*x_e"
   ]
  },
  {
   "cell_type": "markdown",
   "metadata": {},
   "source": [
    "**Inner Bound Surface Charge Density**"
   ]
  },
  {
   "cell_type": "code",
   "execution_count": 22,
   "metadata": {},
   "outputs": [],
   "source": [
    "ax = plt.figure().add_subplot(projection='3d')\n",
    "plt.title(f'Surface Bound Charge Density at Inner Boundary with Potential {round(V,4)} [V]')\n",
    "plot = ax.scatter(X[pos_mask],Y[pos_mask],Z[pos_mask],marker = 'o',cmap = 'hot' ,c= sig_b, s = 1000,alpha = 1)\n",
    "ax.set_xlabel('X')\n",
    "ax.set_ylabel('Y')\n",
    "ax.set_zlabel('Z')\n",
    "ax.set_aspect('equal')\n",
    "cbar = plt.colorbar(plot) \n",
    "cbar.set_label(r'$\\mathrm{\\sigma \\quad [\\frac{C}{m^2}]}$')    \n",
    "plt.show()"
   ]
  },
  {
   "cell_type": "markdown",
   "metadata": {},
   "source": [
    "**Masking for just the inside edge of the dielectric**"
   ]
  },
  {
   "cell_type": "code",
   "execution_count": 23,
   "metadata": {},
   "outputs": [],
   "source": [
    "scale = 2  \n",
    "sphere_perm = np.where(((np.abs(X))**2 + (np.abs(Y))**2 + (np.abs(Z))**2 < (R)**2) & ((np.abs(X)+scale*ds)**2 + (np.abs(Y)+scale*ds)**2 + (np.abs(Z)+scale*ds)**2 > (R+scale*ds)**2))"
   ]
  },
  {
   "cell_type": "markdown",
   "metadata": {},
   "source": [
    "**Electric Field Just Outside the dielectric**"
   ]
  },
  {
   "cell_type": "code",
   "execution_count": 24,
   "metadata": {},
   "outputs": [],
   "source": [
    "x_E_bound_out = x_E_out[sphere_perm]\n",
    "y_E_bound_out = y_E_out[sphere_perm]\n",
    "z_E_bound_out = z_E_out[sphere_perm]"
   ]
  },
  {
   "cell_type": "code",
   "execution_count": 25,
   "metadata": {},
   "outputs": [],
   "source": [
    "dot_x = x_E_bound_out * X[sphere_perm]\n",
    "dot_y = y_E_bound_out * Y[sphere_perm]\n",
    "dot_z = z_E_bound_out * Z[sphere_perm]\n",
    "sig_out_b = (e_0*x_e/R) * (dot_x + dot_y + dot_z)"
   ]
  },
  {
   "cell_type": "markdown",
   "metadata": {},
   "source": [
    "**Outer Surface Bound Charge Denisty**"
   ]
  },
  {
   "cell_type": "code",
   "execution_count": 28,
   "metadata": {},
   "outputs": [],
   "source": [
    "ax = plt.figure().add_subplot(projection='3d')\n",
    "plt.title(f'Surface Bound Charge Density at Outer Boundary with Potential {round(V,4)} [V]')\n",
    "plot = ax.scatter(X[sphere_perm],Y[sphere_perm],Z[sphere_perm],marker = 'o',cmap = 'hot' ,c= sig_out_b, s = 1000,alpha = 1)\n",
    "ax.set_xlabel('X')\n",
    "ax.set_ylabel('Y')\n",
    "ax.set_zlabel('Z')\n",
    "ax.set_aspect('equal')\n",
    "cbar = plt.colorbar(plot) \n",
    "cbar.set_label(r'$\\mathrm{\\sigma \\quad [\\frac{C}{m^2}]}$') \n",
    "plt.show()"
   ]
  },
  {
   "cell_type": "markdown",
   "metadata": {},
   "source": [
    "**Surface Free Charge Density**"
   ]
  },
  {
   "cell_type": "code",
   "execution_count": 29,
   "metadata": {},
   "outputs": [],
   "source": [
    "sig_f = mag_E_bound_in_one*e_0\n",
    "ax = plt.figure().add_subplot(projection='3d')\n",
    "plt.title(f'Surface Free Charge Density at surface with Potential {round(V,4)} [V]')\n",
    "plot = ax.scatter(X[pos_mask],Y[pos_mask],Z[pos_mask],marker = 'o',cmap = 'hot' ,c= sig_f, s = 1000,alpha = 1)\n",
    "ax.set_xlabel('X')\n",
    "ax.set_ylabel('Y')\n",
    "ax.set_zlabel('Z')\n",
    "ax.set_aspect('equal')\n",
    "cbar = plt.colorbar(plot)\n",
    "cbar.set_label(r'$\\mathrm{\\sigma \\quad [\\frac{C}{m^2}]}$') \n",
    "plt.show()"
   ]
  }
 ],
 "metadata": {
  "kernelspec": {
   "display_name": "base",
   "language": "python",
   "name": "python3"
  },
  "language_info": {
   "codemirror_mode": {
    "name": "ipython",
    "version": 3
   },
   "file_extension": ".py",
   "mimetype": "text/x-python",
   "name": "python",
   "nbconvert_exporter": "python",
   "pygments_lexer": "ipython3",
   "version": "3.10.9"
  }
 },
 "nbformat": 4,
 "nbformat_minor": 2
}
